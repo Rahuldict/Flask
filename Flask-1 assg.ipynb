{
 "cells": [
  {
   "cell_type": "code",
   "execution_count": 1,
   "id": "b4b43c0c-32e3-4ee7-b6b9-b47b90936e9f",
   "metadata": {},
   "outputs": [],
   "source": [
    "#Q1. What is Flask Framework? What are the advantages of Flask Framework?"
   ]
  },
  {
   "cell_type": "code",
   "execution_count": null,
   "id": "64df8863-fe47-427f-a587-8847389eb9d2",
   "metadata": {},
   "outputs": [],
   "source": [
    "'''Flask is a micro web framework written in Python. It is designed to be lightweight, flexible, and easy to use, making it an excellent choice for building small to medium-sized web applications. Flask provides essential features to create web applications without imposing too many restrictions or dependencies.\n",
    "\n",
    "Advantages of Flask Framework:\n",
    "\n",
    "Minimalistic: Flask follows a \"micro\" design philosophy, meaning it keeps its core simple and focuses on extensibility. Developers can add functionalities through various extensions according to their specific requirements.\n",
    "\n",
    "Easy to Get Started: Flask is beginner-friendly and has a small learning curve. It provides a simple and straightforward API, making it easy for developers to start building applications quickly.\n",
    "\n",
    "Flexibility: Flask gives developers the freedom to choose their tools and libraries. It does not enforce any specific database, template engine, or ORM, allowing developers to use the ones they are most comfortable with.\n",
    "\n",
    "Widely Supported: Flask has a large and active community, which means you can find numerous extensions, libraries, and documentation to help with different aspects of web development.\n",
    "\n",
    "Lightweight: Being a micro framework, Flask does not have unnecessary features, leading to a lightweight footprint and fast performance.\n",
    "\n",
    "Built-in Development Server: Flask comes with a built-in development server that simplifies the development process during testing and debugging.\n",
    "\n",
    "Extensibility: Flask is highly extensible through various Flask extensions, allowing developers to add features like authentication, database integration, and more.'''"
   ]
  },
  {
   "cell_type": "code",
   "execution_count": 2,
   "id": "3e7f5847-ee9e-476a-845b-e2d0fdafb552",
   "metadata": {},
   "outputs": [],
   "source": [
    "#Q2. Create a simple Flask application to display ‘Hello World!!’. Attach the screenshot of the output in Jupyter Notebook."
   ]
  },
  {
   "cell_type": "code",
   "execution_count": 2,
   "id": "67b583b1-e6e7-4772-944d-1d56a83e6d2a",
   "metadata": {},
   "outputs": [
    {
     "name": "stdout",
     "output_type": "stream",
     "text": [
      "Collecting flask\n",
      "  Downloading Flask-2.3.2-py3-none-any.whl (96 kB)\n",
      "\u001b[2K     \u001b[90m━━━━━━━━━━━━━━━━━━━━━━━━━━━━━━━━━━━━━━━━\u001b[0m \u001b[32m96.9/96.9 kB\u001b[0m \u001b[31m3.8 MB/s\u001b[0m eta \u001b[36m0:00:00\u001b[0m\n",
      "\u001b[?25hCollecting itsdangerous>=2.1.2\n",
      "  Downloading itsdangerous-2.1.2-py3-none-any.whl (15 kB)\n",
      "Requirement already satisfied: click>=8.1.3 in /opt/conda/lib/python3.10/site-packages (from flask) (8.1.3)\n",
      "Collecting Werkzeug>=2.3.3\n",
      "  Downloading Werkzeug-2.3.6-py3-none-any.whl (242 kB)\n",
      "\u001b[2K     \u001b[90m━━━━━━━━━━━━━━━━━━━━━━━━━━━━━━━━━━━━━━\u001b[0m \u001b[32m242.5/242.5 kB\u001b[0m \u001b[31m29.4 MB/s\u001b[0m eta \u001b[36m0:00:00\u001b[0m\n",
      "\u001b[?25hRequirement already satisfied: Jinja2>=3.1.2 in /opt/conda/lib/python3.10/site-packages (from flask) (3.1.2)\n",
      "Collecting blinker>=1.6.2\n",
      "  Downloading blinker-1.6.2-py3-none-any.whl (13 kB)\n",
      "Requirement already satisfied: MarkupSafe>=2.0 in /opt/conda/lib/python3.10/site-packages (from Jinja2>=3.1.2->flask) (2.1.1)\n",
      "Installing collected packages: Werkzeug, itsdangerous, blinker, flask\n",
      "  Attempting uninstall: blinker\n",
      "    Found existing installation: blinker 1.5\n",
      "    Uninstalling blinker-1.5:\n",
      "      Successfully uninstalled blinker-1.5\n",
      "Successfully installed Werkzeug-2.3.6 blinker-1.6.2 flask-2.3.2 itsdangerous-2.1.2\n",
      "Note: you may need to restart the kernel to use updated packages.\n"
     ]
    }
   ],
   "source": [
    "pip install flask"
   ]
  },
  {
   "cell_type": "code",
   "execution_count": null,
   "id": "75366813-6f8f-4916-972f-697968b2674b",
   "metadata": {},
   "outputs": [
    {
     "name": "stdout",
     "output_type": "stream",
     "text": [
      " * Serving Flask app '__main__'\n",
      " * Debug mode: off\n"
     ]
    },
    {
     "name": "stderr",
     "output_type": "stream",
     "text": [
      "WARNING: This is a development server. Do not use it in a production deployment. Use a production WSGI server instead.\n",
      " * Running on http://127.0.0.1:5000\n",
      "Press CTRL+C to quit\n"
     ]
    }
   ],
   "source": [
    "from flask import Flask\n",
    "\n",
    "app = Flask(__name__)\n",
    "\n",
    "@app.route('/')\n",
    "def hello_world():\n",
    "    return 'Hello World!!'\n",
    "\n",
    "if __name__ == '__main__':\n",
    "    app.run()\n"
   ]
  },
  {
   "cell_type": "code",
   "execution_count": 3,
   "id": "06c183fe-b359-4a46-b1bc-31ff082b27d7",
   "metadata": {},
   "outputs": [],
   "source": [
    "#Q3. What is App routing in Flask? Why do we use app routes?"
   ]
  },
  {
   "cell_type": "code",
   "execution_count": null,
   "id": "75bad4f9-11e4-478b-8911-663f92cb7770",
   "metadata": {},
   "outputs": [],
   "source": [
    "'''In Flask, app routing refers to defining URL patterns and mapping them to specific view functions in the application. It allows us to specify which function should be executed when a specific URL is requested by the client.\n",
    "\n",
    "We use app routes to handle different HTTP methods (like GET, POST, etc.) and request different URLs. By using app routes, we can create multiple endpoints for our application, each serving a specific purpose. This helps in organizing the application's code and functionality logically.\n",
    "\n",
    "App routes are defined using the @app.route() decorator in Flask. The decorator takes the URL pattern as an argument and maps it to a Python function, which will be executed when that specific URL is requested.'''"
   ]
  },
  {
   "cell_type": "code",
   "execution_count": 4,
   "id": "a0305593-5267-4923-87f7-72b574e9039d",
   "metadata": {},
   "outputs": [],
   "source": [
    "#Q4. Create a “/welcome” route to display the welcome message “Welcome to ABC Corporation” and a “/”\n",
    "#route to show the following details:\n",
    "#Company Name: ABC Corporation\n",
    "#Location: India\n",
    "#Contact Detail: 999-999-9999"
   ]
  },
  {
   "cell_type": "code",
   "execution_count": null,
   "id": "01328494-2dec-4a71-8dc5-3b863156dfb5",
   "metadata": {},
   "outputs": [
    {
     "name": "stdout",
     "output_type": "stream",
     "text": [
      " * Serving Flask app '__main__'\n",
      " * Debug mode: off\n"
     ]
    },
    {
     "name": "stderr",
     "output_type": "stream",
     "text": [
      "WARNING: This is a development server. Do not use it in a production deployment. Use a production WSGI server instead.\n",
      " * Running on http://127.0.0.1:5000\n",
      "Press CTRL+C to quit\n"
     ]
    }
   ],
   "source": [
    "from flask import Flask\n",
    "\n",
    "app = Flask(__name__)\n",
    "\n",
    "@app.route('/welcome')\n",
    "def welcome():\n",
    "    return 'Welcome to ABC Corporation'\n",
    "\n",
    "@app.route('/')\n",
    "def company_info():\n",
    "    return '''Company Name: ABC Corporation\n",
    "Location: India\n",
    "Contact Detail: 999-999-9999'''\n",
    "\n",
    "if __name__ == '__main__':\n",
    "    app.run()\n"
   ]
  },
  {
   "cell_type": "code",
   "execution_count": null,
   "id": "bbc5f8d3-662b-4840-b336-534aea99559e",
   "metadata": {},
   "outputs": [],
   "source": [
    "#Q5. What function is used in Flask for URL Building? Write a Python code to demonstrate the working of the url_for() function."
   ]
  },
  {
   "cell_type": "code",
   "execution_count": null,
   "id": "a0e5d1c7-e3ab-493e-b473-7186436a56cc",
   "metadata": {},
   "outputs": [],
   "source": [
    "from flask import Flask, url_for\n",
    "\n",
    "app = Flask(__name__)\n",
    "\n",
    "@app.route('/')\n",
    "def home():\n",
    "    return 'Home Page'\n",
    "\n",
    "@app.route('/about')\n",
    "def about():\n",
    "    return 'About Page'\n",
    "\n",
    "@app.route('/contact')\n",
    "def contact():\n",
    "    return 'Contact Page'\n",
    "\n",
    "if __name__ == '__main__':\n",
    "    with app.test_request_context():\n",
    "        print(\"URL for home():\", url_for('home'))\n",
    "        print(\"URL for about():\", url_for('about'))\n",
    "        print(\"URL for contact():\", url_for('contact'))\n"
   ]
  },
  {
   "cell_type": "code",
   "execution_count": null,
   "id": "2001337e-1eec-41b4-b02c-8495a71c7299",
   "metadata": {},
   "outputs": [],
   "source": []
  }
 ],
 "metadata": {
  "kernelspec": {
   "display_name": "Python 3 (ipykernel)",
   "language": "python",
   "name": "python3"
  },
  "language_info": {
   "codemirror_mode": {
    "name": "ipython",
    "version": 3
   },
   "file_extension": ".py",
   "mimetype": "text/x-python",
   "name": "python",
   "nbconvert_exporter": "python",
   "pygments_lexer": "ipython3",
   "version": "3.10.8"
  }
 },
 "nbformat": 4,
 "nbformat_minor": 5
}
